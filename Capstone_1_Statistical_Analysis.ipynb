{
 "cells": [
  {
   "cell_type": "markdown",
   "metadata": {},
   "source": [
    "#Overview\n",
    "\n",
    "In this research project, we are going to analyze the Student Test performance data to understand if any socio-economic factors such as gender, parental education level, school's lunch program and student's test preparation have any impact on the test performance. \n",
    "\n",
    "As a teacher, it is always important to assess the student performance and various factors that impact their performance, so that they can revise and improve teaching methods. Ongoing assessment of student learning allows teachers to engage in continuous quality improvement of their courses"
   ]
  },
  {
   "cell_type": "markdown",
   "metadata": {},
   "source": [
    "#Data\n",
    "\n",
    "\n",
    "The dataset we are going to leverage in this research contains some key information about students demographics data such as (gender, race/ethnicity, parental level of education and lunch program) as well as students test preparation and the test scores from 3 subjects (math, reading and writing). \n",
    "\n",
    "Dataset is available for educational research purpose in Kaggle (link included below). This datasets containing 1000 rows and 8 columns has been imported to my git profile for analysis. \n",
    "\n",
    "**Link** - https://www.kaggle.com/datasets/spscientist/students-performance-in-exams\n",
    "\n",
    "**NOTE**: This dataset is FICTIONAL! Does not represent real school data."
   ]
  },
  {
   "cell_type": "markdown",
   "metadata": {},
   "source": [
    "Currently, the dataset that we're going to use this in this research contains the following features: \n",
    "\n",
    "*   gender - indicates students gender (male/female)\n",
    "*   race/ethnicity - indicates students race/ethnicity\n",
    "*   parental level of education - indicates the level of education the student's parent has completed\n",
    "*   lunch - indicates the schools lunch program that student participcates (free/standard)\n",
    "*   test preparation course - indicates whether the student has completed the test preparation course\n",
    "*   math score - indicates math score obtained by student\n",
    "*   reading score - indicates reading score obtained by student\n",
    "*   writing score - indicates writing score obtained by student\n",
    "\n",
    "In addition to above, we will derive additional feature listed below to support our research analysis:\n",
    "\n",
    "*   avg score - average score across all 3 subjects"
   ]
  },
  {
   "cell_type": "markdown",
   "metadata": {},
   "source": [
    "####Hypothesis testing based on students gender and performance\n",
    "\n",
    "*   H0 (NULL): There is no difference in students average score based on their gender\n",
    "*   H1 (Alternate): Significant difference exists in students average scores based on their gender\n",
    "\n",
    "We'll use t-test to perform our hypothesis testing on above.\n"
   ]
  },
  {
   "cell_type": "code",
   "execution_count": 6,
   "metadata": {},
   "outputs": [
    {
     "name": "stdout",
     "output_type": "stream",
     "text": [
      "   gender race/ethnicity parental level of education         lunch  \\\n",
      "0  female        group B           bachelor's degree      standard   \n",
      "1  female        group C                some college      standard   \n",
      "2  female        group B             master's degree      standard   \n",
      "3    male        group A          associate's degree  free/reduced   \n",
      "4    male        group C                some college      standard   \n",
      "\n",
      "  test preparation course  math score  reading score  writing score  \n",
      "0                    none          72             72             74  \n",
      "1               completed          69             90             88  \n",
      "2                    none          90             95             93  \n",
      "3                    none          47             57             44  \n",
      "4                    none          76             78             75  \n"
     ]
    }
   ],
   "source": [
    "# Importing data\n",
    "\n",
    "import pandas as pd\n",
    "import math\n",
    "from scipy import stats\n",
    "from matplotlib import pyplot as plt\n",
    "\n",
    "url = 'https://github.com/aparihar21/ThinkFull/blob/main/StudentsPerformance.csv?raw=true'\n",
    "df = pd.read_csv(url)\n",
    "print(df.head(5))\n",
    "\n"
   ]
  },
  {
   "cell_type": "code",
   "execution_count": 7,
   "metadata": {},
   "outputs": [
    {
     "name": "stdout",
     "output_type": "stream",
     "text": [
      "Female Count:  518\n",
      "Male Count:  482\n"
     ]
    }
   ],
   "source": [
    "# How large is each group?\n",
    "\n",
    "print('Female Count: ', len(df[df['gender'] == 'female'])) \n",
    "\n",
    "print('Male Count: ', len(df[df['gender'] == 'male'])) \n"
   ]
  },
  {
   "cell_type": "code",
   "execution_count": 8,
   "metadata": {},
   "outputs": [
    {
     "name": "stdout",
     "output_type": "stream",
     "text": [
      "0      72.666667\n",
      "1      82.333333\n",
      "2      92.666667\n",
      "3      49.333333\n",
      "4      76.333333\n",
      "         ...    \n",
      "995    94.000000\n",
      "996    57.333333\n",
      "997    65.000000\n",
      "998    74.333333\n",
      "999    83.000000\n",
      "Name: Average Score, Length: 1000, dtype: float64\n"
     ]
    }
   ],
   "source": [
    "# Creating Average Score Column\n",
    "\n",
    "df['Average Score'] = df[['math score', 'reading score', 'writing score']].mean(axis=1)\n",
    "\n",
    "print(df['Average Score'])"
   ]
  },
  {
   "cell_type": "code",
   "execution_count": 19,
   "metadata": {},
   "outputs": [
    {
     "data": {
      "image/png": "[encoded data removed]",
      "text/plain": [
       "<Figure size 640x480 with 1 Axes>"
      ]
     },
     "metadata": {},
     "output_type": "display_data"
    }
   ],
   "source": [
    "# Check if average score column is Normally distributes\n",
    "\n",
    "\n",
    "plt.hist(df.loc[df['gender'] == 'female', 'Average Score'], alpha = .5, label = \"Female Average Score\")\n",
    "plt.hist(df.loc[df['gender'] == 'male', 'Average Score'], alpha = .5, label = \"Male Average Score\")\n",
    "plt.legend(loc=\"upper right\")\n",
    "plt.title(\"Average Score\")\n",
    "plt.show()"
   ]
  },
  {
   "cell_type": "code",
   "execution_count": 17,
   "metadata": {},
   "outputs": [
    {
     "name": "stdout",
     "output_type": "stream",
     "text": [
      "DescribeResult(nobs=518, minmax=(9.0, 100.0), mean=69.56949806949807, variance=211.46421290038313, skewness=-0.45988485596586054, kurtosis=0.5586901418775589)\n",
      "DescribeResult(nobs=482, minmax=(23.0, 100.0), mean=65.8374827109267, variance=187.65821790510586, skewness=-0.1616736929113303, kurtosis=-0.2748216438554958)\n"
     ]
    }
   ],
   "source": [
    "# Test for skewness and kurtosis\n",
    "\n",
    "print(stats.describe(df.loc[df['gender'] == 'female', 'Average Score']))\n",
    "print(stats.describe(df.loc[df['gender'] == 'male', 'Average Score']))"
   ]
  },
  {
   "cell_type": "code",
   "execution_count": 18,
   "metadata": {},
   "outputs": [
    {
     "data": {
      "text/plain": [
       "Ttest_indResult(statistic=4.169913529142, pvalue=3.311973638243664e-05)"
      ]
     },
     "execution_count": 18,
     "metadata": {},
     "output_type": "execute_result"
    }
   ],
   "source": [
    "## Performing T Test to see if results have significant differences\n",
    "\n",
    "stats.ttest_ind(df.loc[df['gender'] == 'female', 'Average Score'], df.loc[df['gender'] == 'male', 'Average Score'])\n",
    "\n"
   ]
  },
  {
   "cell_type": "code",
   "execution_count": null,
   "metadata": {},
   "outputs": [],
   "source": [
    "## We can  reject the null from either of these results:\n",
    "\n",
    "#The test statistic is greater than 1.96.\n",
    "#The p-value is less than 0.05 "
   ]
  },
  {
   "cell_type": "code",
   "execution_count": 27,
   "metadata": {},
   "outputs": [
    {
     "data": {
      "text/plain": [
       "'The difference in means at the 95% confidence interval (two-tail) is between -6.032549903388392 and -1.431480813754356.'"
      ]
     },
     "execution_count": 27,
     "metadata": {},
     "output_type": "execute_result"
    }
   ],
   "source": [
    "## Confidence Interval\n",
    "\n",
    "\n",
    "def get_95_ci(array_1, array_2):\n",
    "    sample_1_n = array_1.shape[0]\n",
    "    sample_2_n = array_2.shape[0]\n",
    "    sample_1_mean = array_1.mean()\n",
    "    sample_2_mean = array_2.mean()\n",
    "    sample_1_var = array_1.var()\n",
    "    sample_2_var = array_2.var()\n",
    "    mean_difference = sample_2_mean - sample_1_mean\n",
    "    std_err_difference = math.sqrt((sample_1_var/sample_1_n)+(sample_2_var/sample_2_n))\n",
    "    margin_of_error = 2.576 * std_err_difference\n",
    "    ci_lower = mean_difference - margin_of_error\n",
    "    ci_upper = mean_difference + margin_of_error\n",
    "    return(\"The difference in means at the 95% confidence interval (two-tail) is between \"+str(ci_lower)+\" and \"+str(ci_upper)+\".\")\n",
    "get_95_ci(df.loc[df['gender'] == 'female', 'Average Score'], df.loc[df['gender'] == 'male', 'Average Score'])"
   ]
  },
  {
   "cell_type": "markdown",
   "metadata": {},
   "source": [
    "We can interpret this result as saying that with 99% confidence, average score of female are on average between 6.03 and 1.43 higher than male average score."
   ]
  },
  {
   "cell_type": "markdown",
   "metadata": {},
   "source": [
    "Based on this, extra attention can be provided on male students for them to improve their scores, or the school can try to find why male students are performing lesser than female students."
   ]
  },
  {
   "cell_type": "code",
   "execution_count": 26,
   "metadata": {},
   "outputs": [
    {
     "data": {
      "text/plain": [
       "[[Text(0, 0, 'female'), Text(1, 0, 'male')]]"
      ]
     },
     "execution_count": 26,
     "metadata": {},
     "output_type": "execute_result"
    },
    {
     "data": {
      "image/png": "[encoded data removed]",
      "text/plain": [
       "<Figure size 640x480 with 1 Axes>"
      ]
     },
     "metadata": {},
     "output_type": "display_data"
    }
   ],
   "source": [
    "import seaborn as sns\n",
    "\n",
    "g = sns.pointplot(data=[df.loc[df['gender'] == 'female', 'Average Score'],\n",
    "                        df.loc[df['gender'] == 'male', 'Average Score']], join=False)\n",
    "                        \n",
    "g.set(xticklabels = ['female', 'male'])"
   ]
  }
 ],
 "metadata": {
  "kernelspec": {
   "display_name": "base",
   "language": "python",
   "name": "python3"
  },
  "language_info": {
   "codemirror_mode": {
    "name": "ipython",
    "version": 3
   },
   "file_extension": ".py",
   "mimetype": "text/x-python",
   "name": "python",
   "nbconvert_exporter": "python",
   "pygments_lexer": "ipython3",
   "version": "3.9.16"
  }
 },
 "nbformat": 4,
 "nbformat_minor": 2
}
